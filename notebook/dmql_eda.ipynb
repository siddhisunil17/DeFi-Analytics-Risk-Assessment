{
  "cells": [
    {
      "cell_type": "code",
      "execution_count": null,
      "metadata": {
        "id": "6-xwIckslTCN"
      },
      "outputs": [],
      "source": [
        "import pandas as pd\n",
        "import matplotlib.pyplot as plt"
      ]
    },
    {
      "cell_type": "code",
      "execution_count": null,
      "metadata": {
        "id": "yazxt1lqhjs4"
      },
      "outputs": [],
      "source": [
        "file_path = \"/content/bquxjob_19736c85_1955e49fb42.csv\"\n",
        "df = pd.read_csv(file_path)"
      ]
    },
    {
      "cell_type": "code",
      "execution_count": null,
      "metadata": {
        "colab": {
          "base_uri": "https://localhost:8080/"
        },
        "id": "CoLIrjJJh9yK",
        "outputId": "7be90bd2-8bc2-49b5-c667-dfc1414290d5"
      },
      "outputs": [
        {
          "name": "stdout",
          "output_type": "stream",
          "text": [
            "First 5 rows of the dataset:\n",
            "                                          block_hash  block_number  \\\n",
            "0  0x009181ca956243eb064f2ca30f0c5c8fb73989ecaa69...      18908911   \n",
            "1  0x009181ca956243eb064f2ca30f0c5c8fb73989ecaa69...      18908911   \n",
            "2  0x009181ca956243eb064f2ca30f0c5c8fb73989ecaa69...      18908911   \n",
            "3  0x009181ca956243eb064f2ca30f0c5c8fb73989ecaa69...      18908911   \n",
            "4  0x009181ca956243eb064f2ca30f0c5c8fb73989ecaa69...      18908911   \n",
            "\n",
            "                  block_timestamp  \\\n",
            "0  2024-01-01 00:03:23.000000 UTC   \n",
            "1  2024-01-01 00:03:23.000000 UTC   \n",
            "2  2024-01-01 00:03:23.000000 UTC   \n",
            "3  2024-01-01 00:03:23.000000 UTC   \n",
            "4  2024-01-01 00:03:23.000000 UTC   \n",
            "\n",
            "                                    transaction_hash  transaction_index  \\\n",
            "0  0xacfdd9e65508a82c9855cb0e16d2345ce78e3e514fb2...                145   \n",
            "1  0x48f50dc7b66f35e92890cfdc649e60f7304459d0beaf...                143   \n",
            "2  0x0e5ccadae6becb3b9f90155aa8cb5557b398a8923448...                 28   \n",
            "3  0x8bf3df06bb46cd302861c2e35705caa7241026f89aed...                103   \n",
            "4  0x42b94debc5e1bef97cb569d21218024e4805f0fcbff9...                120   \n",
            "\n",
            "   event_index                                from_address  \\\n",
            "0          221  0x0f445b9d09b0dc3324f3551ea5395596c4ff150a   \n",
            "1          213  0x3fc91a3afd70395cd496c647d5a6cc9d4b2b7fad   \n",
            "2          105  0x28c6c06298d514db089934071355e5743bf21d60   \n",
            "3          127  0xdef1c0ded9bec7f1a1670819833240f027b25eff   \n",
            "4          150  0x4e34da137f0b317c633838458e0c923a5e088752   \n",
            "\n",
            "                                   to_address token_id            quantity  \\\n",
            "0  0x3fc91a3afd70395cd496c647d5a6cc9d4b2b7fad      NaN   70053320881949441   \n",
            "1  0xee8794dd22f04fe72d42f421a74c9b4789d92de3      NaN   10000000000000000   \n",
            "2  0x360e051a25ca6decd2f0e91ea4c179a96c0e565e      NaN         24969400000   \n",
            "3  0x33d2aec1ed7fecc7f7ae55930629ae3eabc9d61d      NaN   21932037003734996   \n",
            "4  0x3fc91a3afd70395cd496c647d5a6cc9d4b2b7fad      NaN  485333275740536719   \n",
            "\n",
            "  event_type  \n",
            "0     ERC-20  \n",
            "1     ERC-20  \n",
            "2     ERC-20  \n",
            "3     ERC-20  \n",
            "4     ERC-20  \n",
            "\n",
            "Columns in the dataset:\n",
            "['block_hash', 'block_number', 'block_timestamp', 'transaction_hash', 'transaction_index', 'event_index', 'from_address', 'to_address', 'token_id', 'quantity', 'event_type']\n",
            "\n",
            "DataFrame info:\n",
            "<class 'pandas.core.frame.DataFrame'>\n",
            "RangeIndex: 20000 entries, 0 to 19999\n",
            "Data columns (total 11 columns):\n",
            " #   Column             Non-Null Count  Dtype \n",
            "---  ------             --------------  ----- \n",
            " 0   block_hash         20000 non-null  object\n",
            " 1   block_number       20000 non-null  int64 \n",
            " 2   block_timestamp    20000 non-null  object\n",
            " 3   transaction_hash   20000 non-null  object\n",
            " 4   transaction_index  20000 non-null  int64 \n",
            " 5   event_index        20000 non-null  int64 \n",
            " 6   from_address       20000 non-null  object\n",
            " 7   to_address         20000 non-null  object\n",
            " 8   token_id           3421 non-null   object\n",
            " 9   quantity           20000 non-null  object\n",
            " 10  event_type         20000 non-null  object\n",
            "dtypes: int64(3), object(8)\n",
            "memory usage: 1.7+ MB\n",
            "None\n",
            "\n",
            "Null values per column:\n",
            "block_hash               0\n",
            "block_number             0\n",
            "block_timestamp          0\n",
            "transaction_hash         0\n",
            "transaction_index        0\n",
            "event_index              0\n",
            "from_address             0\n",
            "to_address               0\n",
            "token_id             16579\n",
            "quantity                 0\n",
            "event_type               0\n",
            "dtype: int64\n"
          ]
        }
      ],
      "source": [
        "print(\"First 5 rows of the dataset:\")\n",
        "print(df.head())\n",
        "\n",
        "print(\"\\nColumns in the dataset:\")\n",
        "print(df.columns.tolist())\n",
        "\n",
        "print(\"\\nDataFrame info:\")\n",
        "print(df.info())\n",
        "\n",
        "print(\"\\nNull values per column:\")\n",
        "print(df.isnull().sum())\n"
      ]
    },
    {
      "cell_type": "code",
      "execution_count": null,
      "metadata": {
        "id": "WxIIJ4I2h9ul"
      },
      "outputs": [],
      "source": [
        "# Convert block_timestamp to datetime\n",
        "df['block_timestamp'] = pd.to_datetime(df['block_timestamp'].str.replace(' UTC', ''))"
      ]
    },
    {
      "cell_type": "code",
      "execution_count": null,
      "metadata": {
        "colab": {
          "base_uri": "https://localhost:8080/"
        },
        "id": "_7LAWl0Dh9sB",
        "outputId": "9eb5580e-ec9e-4f0d-cf7f-922724003ddc"
      },
      "outputs": [
        {
          "name": "stdout",
          "output_type": "stream",
          "text": [
            "\n",
            "Timestamp Range:\n",
            "2024-01-01 00:00:11 to 2024-01-01 02:15:35\n"
          ]
        }
      ],
      "source": [
        "print(\"\\nTimestamp Range:\")\n",
        "print(df['block_timestamp'].min(), \"to\", df['block_timestamp'].max())"
      ]
    },
    {
      "cell_type": "code",
      "execution_count": null,
      "metadata": {
        "id": "VFs7W0D0i3Hf"
      },
      "outputs": [],
      "source": [
        "# Convert quantity to numeric\n",
        "df['quantity'] = pd.to_numeric(df['quantity'], errors='coerce')"
      ]
    },
    {
      "cell_type": "code",
      "execution_count": null,
      "metadata": {
        "colab": {
          "base_uri": "https://localhost:8080/"
        },
        "id": "n47iodPNi3D7",
        "outputId": "a0ec9381-08aa-47da-c3c3-d495965b1555"
      },
      "outputs": [
        {
          "name": "stdout",
          "output_type": "stream",
          "text": [
            "\n",
            "Number of duplicate rows: 0\n"
          ]
        }
      ],
      "source": [
        "print(\"\\nNumber of duplicate rows:\", df.duplicated().sum())\n",
        "\n",
        "df = df.drop_duplicates(subset=['transaction_hash', 'event_index'])"
      ]
    },
    {
      "cell_type": "code",
      "execution_count": null,
      "metadata": {
        "colab": {
          "base_uri": "https://localhost:8080/"
        },
        "id": "Iybosf9KjGDR",
        "outputId": "93be28cd-29cb-4b71-c580-6dd490423a06"
      },
      "outputs": [
        {
          "name": "stdout",
          "output_type": "stream",
          "text": [
            "\n",
            "Event Type Distribution:\n",
            "event_type\n",
            "ERC-20      16579\n",
            "ERC-721      2901\n",
            "ERC-1155      483\n",
            "Name: count, dtype: int64\n"
          ]
        }
      ],
      "source": [
        "print(\"\\nEvent Type Distribution:\")\n",
        "print(df['event_type'].value_counts())"
      ]
    },
    {
      "cell_type": "code",
      "execution_count": null,
      "metadata": {
        "colab": {
          "base_uri": "https://localhost:8080/"
        },
        "id": "kP8jROHhi3Bn",
        "outputId": "2dfab9ca-a64f-4ba5-87b9-89a4d20e432a"
      },
      "outputs": [
        {
          "name": "stdout",
          "output_type": "stream",
          "text": [
            "\n",
            "Top 5 from_address:\n",
            "from_address\n",
            "0x0000000000000000000000000000000000000000    4195\n",
            "0x3fc91a3afd70395cd496c647d5a6cc9d4b2b7fad     623\n",
            "0xa9d1e08c7793af67e9d92fe308d5697fb81d3e43     298\n",
            "0x74de5d4fcbf63e00296fd95d33236b9794016631     230\n",
            "0xdef1c0ded9bec7f1a1670819833240f027b25eff     159\n",
            "Name: count, dtype: int64\n",
            "\n",
            "Top 5 to_address:\n",
            "to_address\n",
            "0x996e1d4ce3e1e558889832832004b2466153adbe    712\n",
            "0xa9d1e08c7793af67e9d92fe308d5697fb81d3e43    440\n",
            "0x3fc91a3afd70395cd496c647d5a6cc9d4b2b7fad    433\n",
            "0x61fbb052daf37a3b50616669a10c4778f08f3c6f    400\n",
            "0xb84b3a7c5d325ebe5b5fc8482529b37d6298207d    280\n",
            "Name: count, dtype: int64\n",
            "\n",
            "Token ID missing %: 83.04863998397035\n",
            "\n",
            "Top Token IDs:\n",
            "token_id\n",
            "1    162\n",
            "5     48\n",
            "2     23\n",
            "4     14\n",
            "3     14\n",
            "Name: count, dtype: int64\n"
          ]
        }
      ],
      "source": [
        "# Top 5 senders and receivers\n",
        "print(\"\\nTop 5 from_address:\")\n",
        "print(df['from_address'].value_counts().head(5))\n",
        "\n",
        "print(\"\\nTop 5 to_address:\")\n",
        "print(df['to_address'].value_counts().head(5))\n",
        "\n",
        "# Token ID missing percentage and top token_ids\n",
        "token_id_missing_pct = df['token_id'].isnull().mean() * 100\n",
        "print(\"\\nToken ID missing %:\", token_id_missing_pct)\n",
        "\n",
        "print(\"\\nTop Token IDs:\")\n",
        "print(df[df['token_id'].notnull()]['token_id'].value_counts().head())"
      ]
    },
    {
      "cell_type": "code",
      "execution_count": null,
      "metadata": {
        "colab": {
          "base_uri": "https://localhost:8080/",
          "height": 507
        },
        "id": "QdeY9Mn_kQUP",
        "outputId": "dc7f66df-a8f3-4e09-a3e0-c9e766941bfd"
      },
      "outputs": [
        {
          "data": {
            "image/png": "[encoded data removed]",
            "text/plain": [
              "<Figure size 600x500 with 1 Axes>"
            ]
          },
          "metadata": {},
          "output_type": "display_data"
        }
      ],
      "source": [
        "# Distribution of quantity\n",
        "plt.figure(figsize=(6, 5))\n",
        "df['quantity'].plot.hist(bins=50, log=True, title='Distribution of Quantity')\n",
        "plt.xlabel('Quantity')\n",
        "plt.tight_layout()\n",
        "plt.show()\n"
      ]
    },
    {
      "cell_type": "code",
      "execution_count": null,
      "metadata": {
        "colab": {
          "base_uri": "https://localhost:8080/",
          "height": 507
        },
        "id": "UyrkLVnJi2-4",
        "outputId": "c2e30805-d246-453e-a8de-bfa0c2e5d868"
      },
      "outputs": [
        {
          "data": {
            "image/png": "[encoded data removed]",
            "text/plain": [
              "<Figure size 600x500 with 1 Axes>"
            ]
          },
          "metadata": {},
          "output_type": "display_data"
        }
      ],
      "source": [
        "# Transaction count over time\n",
        "plt.figure(figsize=(6, 5))\n",
        "df.set_index('block_timestamp')['transaction_hash'].resample('10min').count().plot(title='Transaction Count Over Time')\n",
        "plt.ylabel('Count')\n",
        "plt.tight_layout()\n",
        "plt.show()\n"
      ]
    },
    {
      "cell_type": "code",
      "execution_count": null,
      "metadata": {
        "colab": {
          "base_uri": "https://localhost:8080/"
        },
        "id": "BCeAUNYMj1am",
        "outputId": "541908af-ca07-4d51-ffcc-f0d291246054"
      },
      "outputs": [
        {
          "name": "stdout",
          "output_type": "stream",
          "text": [
            "\n",
            "Full Data Summary:\n",
            "                                               block_hash  block_number  \\\n",
            "count                                               19963  1.996300e+04   \n",
            "unique                                                270           NaN   \n",
            "top     0x4c2ca1b52069de9cd2669d7c147f5a529a5d64bc5129...           NaN   \n",
            "freq                                                  537           NaN   \n",
            "mean                                                  NaN  1.890921e+07   \n",
            "min                                                   NaN  1.890890e+07   \n",
            "25%                                                   NaN  1.890903e+07   \n",
            "50%                                                   NaN  1.890919e+07   \n",
            "75%                                                   NaN  1.890939e+07   \n",
            "max                                                   NaN  1.890956e+07   \n",
            "std                                                   NaN  1.958186e+02   \n",
            "\n",
            "                      block_timestamp  \\\n",
            "count                           19963   \n",
            "unique                            NaN   \n",
            "top                               NaN   \n",
            "freq                              NaN   \n",
            "mean    2024-01-01 01:04:53.426489088   \n",
            "min               2024-01-01 00:00:11   \n",
            "25%               2024-01-01 00:28:47   \n",
            "50%               2024-01-01 01:01:11   \n",
            "75%               2024-01-01 01:41:11   \n",
            "max               2024-01-01 02:15:35   \n",
            "std                               NaN   \n",
            "\n",
            "                                         transaction_hash  transaction_index  \\\n",
            "count                                               19963       19963.000000   \n",
            "unique                                               8816                NaN   \n",
            "top     0x95683b1a84bc5e866c031a1ec54eb25db9da390550f4...                NaN   \n",
            "freq                                                  400                NaN   \n",
            "mean                                                  NaN         106.750038   \n",
            "min                                                   NaN          13.000000   \n",
            "25%                                                   NaN          53.000000   \n",
            "50%                                                   NaN         103.000000   \n",
            "75%                                                   NaN         145.000000   \n",
            "max                                                   NaN         627.000000   \n",
            "std                                                   NaN          68.703462   \n",
            "\n",
            "         event_index                                from_address  \\\n",
            "count   19963.000000                                       19963   \n",
            "unique           NaN                                        6780   \n",
            "top              NaN  0x0000000000000000000000000000000000000000   \n",
            "freq             NaN                                        4195   \n",
            "mean      268.456094                                         NaN   \n",
            "min         0.000000                                         NaN   \n",
            "25%       117.000000                                         NaN   \n",
            "50%       204.000000                                         NaN   \n",
            "75%       303.000000                                         NaN   \n",
            "max      6264.000000                                         NaN   \n",
            "std       392.241174                                         NaN   \n",
            "\n",
            "                                        to_address token_id      quantity  \\\n",
            "count                                        19963     3384  1.996300e+04   \n",
            "unique                                        8469     2512           NaN   \n",
            "top     0x996e1d4ce3e1e558889832832004b2466153adbe        1           NaN   \n",
            "freq                                           712      162           NaN   \n",
            "mean                                           NaN      NaN  3.265908e+28   \n",
            "min                                            NaN      NaN  0.000000e+00   \n",
            "25%                                            NaN      NaN  2.586900e+06   \n",
            "50%                                            NaN      NaN  1.020308e+16   \n",
            "75%                                            NaN      NaN  2.420862e+20   \n",
            "max                                            NaN      NaN  2.726347e+32   \n",
            "std                                            NaN      NaN  2.228621e+30   \n",
            "\n",
            "       event_type  \n",
            "count       19963  \n",
            "unique          3  \n",
            "top        ERC-20  \n",
            "freq        16579  \n",
            "mean          NaN  \n",
            "min           NaN  \n",
            "25%           NaN  \n",
            "50%           NaN  \n",
            "75%           NaN  \n",
            "max           NaN  \n",
            "std           NaN  \n"
          ]
        }
      ],
      "source": [
        "print(\"\\nFull Data Summary:\")\n",
        "print(df.describe(include='all'))\n"
      ]
    },
    {
      "cell_type": "code",
      "execution_count": null,
      "metadata": {
        "id": "XQjyH-nnh9pF"
      },
      "outputs": [],
      "source": [
        "df.to_csv(\"/content/cleaned_dataset.csv\", index=False)"
      ]
    },
    {
      "cell_type": "code",
      "execution_count": null,
      "metadata": {
        "colab": {
          "base_uri": "https://localhost:8080/"
        },
        "id": "1gx-SfdRl9V5",
        "outputId": "b4781e96-2831-4166-871d-871a3906ed02"
      },
      "outputs": [
        {
          "name": "stdout",
          "output_type": "stream",
          "text": [
            "Number of rows in cleaned dataset: 19963\n"
          ]
        }
      ],
      "source": [
        "cleaned_df = pd.read_csv(\"/content/cleaned_dataset.csv\")\n",
        "\n",
        "print(\"Number of rows in cleaned dataset:\", len(cleaned_df))"
      ]
    },
    {
      "cell_type": "code",
      "execution_count": null,
      "metadata": {
        "colab": {
          "base_uri": "https://localhost:8080/"
        },
        "id": "vn9QoypVmcDp",
        "outputId": "cbb68b2a-7b69-41eb-a0b1-085916d5c803"
      },
      "outputs": [
        {
          "name": "stdout",
          "output_type": "stream",
          "text": [
            "Sampled dataset shape: (10000, 11)\n"
          ]
        }
      ],
      "source": [
        "sampled_df = cleaned_df.sample(n=10000, random_state=42)\n",
        "\n",
        "sampled_df.to_csv(\"/content/cleaned_sampled_10000.csv\", index=False)\n",
        "\n",
        "print(\"Sampled dataset shape:\", sampled_df.shape)\n"
      ]
    },
    {
      "cell_type": "code",
      "execution_count": null,
      "metadata": {
        "id": "r3sw2s2Wmk-_"
      },
      "outputs": [],
      "source": []
    }
  ],
  "metadata": {
    "colab": {
      "provenance": []
    },
    "kernelspec": {
      "display_name": "Python 3",
      "name": "python3"
    },
    "language_info": {
      "name": "python"
    }
  },
  "nbformat": 4,
  "nbformat_minor": 0
}
